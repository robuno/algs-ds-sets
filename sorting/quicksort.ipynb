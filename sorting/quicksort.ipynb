{
 "cells": [
  {
   "cell_type": "markdown",
   "metadata": {},
   "source": [
    "- worst: n\n",
    "- avr and best nlogn\n",
    "- faster than mergesort, better cache use\n",
    "- depends on pivot choosing \n",
    "- not stable --> equal elements can change position"
   ]
  },
  {
   "cell_type": "markdown",
   "metadata": {},
   "source": [
    "Pivot = middle"
   ]
  },
  {
   "cell_type": "code",
   "execution_count": 1,
   "metadata": {},
   "outputs": [
    {
     "name": "stdout",
     "output_type": "stream",
     "text": [
      "Sorted array: [11, 12, 22, 25, 34, 64, 90]\n"
     ]
    }
   ],
   "source": [
    "def quick_sort(arr):\n",
    "    if len(arr) <= 1:  \n",
    "        return arr\n",
    "\n",
    "    pivot = arr[len(arr) // 2]  # pivot\n",
    "    left = [x for x in arr if x < pivot]  # smaller than pivot\n",
    "    middle = [x for x in arr if x == pivot]  # equal to pivot\n",
    "    right = [x for x in arr if x > pivot]  # greater than pivot\n",
    "\n",
    "    return quick_sort(left) + middle + quick_sort(right)  # recursively sort & combine\n",
    "\n",
    "arr = [64, 34, 25, 12, 22, 11, 90]\n",
    "sorted_arr = quick_sort(arr)\n",
    "print(\"Sorted array:\", sorted_arr)"
   ]
  },
  {
   "cell_type": "markdown",
   "metadata": {},
   "source": [
    "Pivot = Last Element"
   ]
  },
  {
   "cell_type": "code",
   "execution_count": 2,
   "metadata": {},
   "outputs": [
    {
     "name": "stdout",
     "output_type": "stream",
     "text": [
      "Sorted array: [11, 12, 22, 25, 34, 64, 90]\n"
     ]
    }
   ],
   "source": [
    "def partition(arr, low, high):\n",
    "\n",
    "    pivot = arr[high]  # last element pivot\n",
    "    i = low - 1  # index for smaller element\n",
    "\n",
    "    for j in range(low, high):\n",
    "        if arr[j] < pivot:  # if current element < pivot\n",
    "            i += 1\n",
    "            arr[i], arr[j] = arr[j], arr[i]  # swap \n",
    "\n",
    "    arr[i + 1], arr[high] = arr[high], arr[i + 1]  # swap pivot to correct position\n",
    "    return i + 1  # return partition index\n",
    "\n",
    "def quick_sort(arr, low, high):\n",
    "    if low < high:\n",
    "        pi = partition(arr, low, high)  # partitioning index\n",
    "\n",
    "        quick_sort(arr, low, pi - 1)  # recursively sort left half\n",
    "        quick_sort(arr, pi + 1, high)  # recursively sort right half\n",
    "\n",
    "\n",
    "arr = [64, 34, 25, 12, 22, 11, 90]\n",
    "quick_sort(arr, 0, len(arr) - 1)\n",
    "print(\"Sorted array:\", arr)\n"
   ]
  }
 ],
 "metadata": {
  "kernelspec": {
   "display_name": "Python 3",
   "language": "python",
   "name": "python3"
  },
  "language_info": {
   "codemirror_mode": {
    "name": "ipython",
    "version": 3
   },
   "file_extension": ".py",
   "mimetype": "text/x-python",
   "name": "python",
   "nbconvert_exporter": "python",
   "pygments_lexer": "ipython3",
   "version": "3.11.0"
  }
 },
 "nbformat": 4,
 "nbformat_minor": 2
}
