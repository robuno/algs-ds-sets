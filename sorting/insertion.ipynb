{
 "cells": [
  {
   "cell_type": "markdown",
   "metadata": {},
   "source": [
    "- worst avr best\n",
    "- n2, n2, n\n",
    "- spc cmpx: 1\n",
    "\n",
    "- start with second element, pick it = key\n",
    "- compare with LEFT, \n",
    "- shift larger elements to RIGHT"
   ]
  },
  {
   "cell_type": "code",
   "execution_count": null,
   "metadata": {},
   "outputs": [],
   "source": [
    "def insertion_sort(arr):\n",
    "    n = len(arr)\n",
    "    \n",
    "    for i in range(1, n):  # Start from the second element\n",
    "        key = arr[i]  # Element to be inserted\n",
    "        j = i - 1  # Start comparing with the previous element\n",
    "\n",
    "        while j >= 0 and arr[j] > key:  # Shift larger elements\n",
    "            arr[j + 1] = arr[j]         # swap\n",
    "            j -= 1                      # go left\n",
    "        \n",
    "        arr[j + 1] = key  # Insert at the correct position\n",
    "\n",
    "\n",
    "arr = [64, 34, 25, 12, 22, 11, 90]\n",
    "insertion_sort(arr)\n",
    "print(\"Sorted array:\", arr)"
   ]
  }
 ],
 "metadata": {
  "kernelspec": {
   "display_name": "Python 3",
   "language": "python",
   "name": "python3"
  },
  "language_info": {
   "name": "python",
   "version": "3.11.0"
  }
 },
 "nbformat": 4,
 "nbformat_minor": 2
}
