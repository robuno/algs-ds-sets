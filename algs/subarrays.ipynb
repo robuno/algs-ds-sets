{
 "cells": [
  {
   "cell_type": "code",
   "execution_count": 4,
   "metadata": {},
   "outputs": [],
   "source": [
    "def generate_subarrays(arr):\n",
    "    subarrays = []\n",
    "    n = len(arr)\n",
    "    for i in range(n):\n",
    "        for j in range(i + 1, n + 1):\n",
    "            subarrays.append(arr[i:j])  \n",
    "    return subarrays\n"
   ]
  },
  {
   "cell_type": "code",
   "execution_count": 7,
   "metadata": {},
   "outputs": [
    {
     "name": "stdout",
     "output_type": "stream",
     "text": [
      "[1]\n",
      "[1, 2]\n",
      "[1, 2, 3]\n",
      "[1, 2, 3, 77]\n",
      "[1, 2, 3, 77, 45]\n",
      "[2]\n",
      "[2, 3]\n",
      "[2, 3, 77]\n",
      "[2, 3, 77, 45]\n",
      "[3]\n",
      "[3, 77]\n",
      "[3, 77, 45]\n",
      "[77]\n",
      "[77, 45]\n",
      "[45]\n"
     ]
    }
   ],
   "source": [
    "arr = [1, 2, 3, 77, 45]\n",
    "# print(generate_subarrays(arr))\n",
    "\n",
    "for subarr in generate_subarrays(arr):\n",
    "    print(subarr)"
   ]
  }
 ],
 "metadata": {
  "kernelspec": {
   "display_name": "Python 3",
   "language": "python",
   "name": "python3"
  },
  "language_info": {
   "codemirror_mode": {
    "name": "ipython",
    "version": 3
   },
   "file_extension": ".py",
   "mimetype": "text/x-python",
   "name": "python",
   "nbconvert_exporter": "python",
   "pygments_lexer": "ipython3",
   "version": "3.11.0"
  }
 },
 "nbformat": 4,
 "nbformat_minor": 2
}
