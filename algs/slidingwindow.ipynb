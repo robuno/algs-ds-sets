{
 "cells": [
  {
   "cell_type": "markdown",
   "metadata": {},
   "source": [
    "Problem: Find the maximum sum of any subarray of size k in the array [2, 1, 5, 1, 3, 2] with k = 3."
   ]
  },
  {
   "cell_type": "code",
   "execution_count": 3,
   "metadata": {},
   "outputs": [],
   "source": [
    "def max_sum_subarray(arr, k):\n",
    "    max_sum = float('-inf')  \n",
    "    window_sum = 0\n",
    "    left = 0\n",
    "\n",
    "    for right in range(len(arr)):\n",
    "        window_sum += arr[right]  # add element to the window\n",
    "        print(right, \" - \", window_sum)\n",
    "\n",
    "        # after kth index, slide window\n",
    "        if right >= k - 1:\n",
    "            max_sum = max(max_sum, window_sum)\n",
    "            window_sum -= arr[left]  # remove the leftmost element\n",
    "            left += 1  # slide window to the right\n",
    "\n",
    "    return max_sum"
   ]
  },
  {
   "cell_type": "code",
   "execution_count": 4,
   "metadata": {},
   "outputs": [
    {
     "name": "stdout",
     "output_type": "stream",
     "text": [
      "0  -  2\n",
      "1  -  3\n",
      "2  -  8\n",
      "3  -  7\n",
      "4  -  9\n",
      "5  -  6\n",
      "9\n"
     ]
    }
   ],
   "source": [
    "arr = [2, 1, 5, 1, 3, 2]\n",
    "k = 3\n",
    "print(max_sum_subarray(arr, k))  "
   ]
  }
 ],
 "metadata": {
  "kernelspec": {
   "display_name": "Python 3",
   "language": "python",
   "name": "python3"
  },
  "language_info": {
   "codemirror_mode": {
    "name": "ipython",
    "version": 3
   },
   "file_extension": ".py",
   "mimetype": "text/x-python",
   "name": "python",
   "nbconvert_exporter": "python",
   "pygments_lexer": "ipython3",
   "version": "3.11.0"
  }
 },
 "nbformat": 4,
 "nbformat_minor": 2
}
