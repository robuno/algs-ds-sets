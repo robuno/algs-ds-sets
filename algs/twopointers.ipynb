{
 "cells": [
  {
   "cell_type": "markdown",
   "metadata": {},
   "source": [
    "squeeze\n",
    "\n",
    "ex question: squares of a sorted array\n",
    "ex q: sorted array is given, find 2 numbers = add up to a target number\n",
    "\n",
    "2 variations:\n",
    "- slow fast pointer: common in linked lists\n",
    "- front-back squeezing: two sum variations\n",
    "\n",
    "idea:\n",
    "- Left pointer: start\n",
    "- Right pointer: end\n",
    "- ensure L <= R or L < R\n"
   ]
  },
  {
   "cell_type": "markdown",
   "metadata": {},
   "source": [
    "## Questions"
   ]
  },
  {
   "cell_type": "markdown",
   "metadata": {},
   "source": [
    "167 leetcode: two sum ii\n",
    "- sorted in ASC order, find two nums, sum gives target"
   ]
  },
  {
   "cell_type": "code",
   "execution_count": 5,
   "metadata": {},
   "outputs": [
    {
     "name": "stdout",
     "output_type": "stream",
     "text": [
      "index1:2, index2:3\n"
     ]
    }
   ],
   "source": [
    "numbers1 = [2,7,11,15]\n",
    "target1 = 18\n",
    "\n",
    "def twosumii_solver(nums, target):\n",
    "    L = 0\n",
    "    R = len(nums)-1\n",
    "    while (L < R):\n",
    "        sum_LR = nums[L] + nums[R]\n",
    "        if target == sum_LR:\n",
    "            return L+1, R+1\n",
    "        elif(sum_LR <= target):\n",
    "            L+=1 # move to R \n",
    "        else:\n",
    "            R-=1 # move to L\n",
    "\n",
    "index1, index2 = twosumii_solver(numbers1, target1)\n",
    "print(f\"index1:{index1}, index2:{index2}\")\n",
    "\n"
   ]
  },
  {
   "cell_type": "markdown",
   "metadata": {},
   "source": [
    "977: squares of a sorted array\n",
    "- nums: non decreasing order input\n",
    "- return squares of each number in sorted and non-decreasing order"
   ]
  },
  {
   "cell_type": "code",
   "execution_count": 12,
   "metadata": {},
   "outputs": [
    {
     "name": "stdout",
     "output_type": "stream",
     "text": [
      "squraes_list:[0, 1, 9, 16, 100]\n"
     ]
    }
   ],
   "source": [
    "numbers1 = [-4, -1, 0, 3, 10]\n",
    "\n",
    "def squares_sortedlist(nums):\n",
    "    L = 0\n",
    "    R = len(nums)-1\n",
    "    sorted_sqr_result = []\n",
    "\n",
    "    while (L <= R):\n",
    "        if abs(nums[L]) > abs(nums[R]):\n",
    "            sorted_sqr_result.append(nums[L]**2)\n",
    "            L+=1\n",
    "        else:\n",
    "            sorted_sqr_result.append(nums[R]**2)\n",
    "            R-=1\n",
    "    \n",
    "    sorted_sqr_result.reverse()\n",
    "    return sorted_sqr_result\n",
    "\n",
    "\n",
    "squareslist = squares_sortedlist(numbers1)\n",
    "print(f\"squraes_list:{squareslist}\")\n",
    "\n"
   ]
  },
  {
   "cell_type": "markdown",
   "metadata": {},
   "source": [
    "if smt sorted, think binary search"
   ]
  },
  {
   "cell_type": "markdown",
   "metadata": {},
   "source": [
    "## Reverse Array"
   ]
  },
  {
   "cell_type": "code",
   "execution_count": 1,
   "metadata": {},
   "outputs": [
    {
     "name": "stdout",
     "output_type": "stream",
     "text": [
      "[5, 4, 3, 2, 1]\n"
     ]
    }
   ],
   "source": [
    "def reverse_array(arr):\n",
    "    left = 0\n",
    "    right = len(arr) - 1\n",
    "    while left < right:\n",
    "        arr[left], arr[right] = arr[right], arr[left]  # Swap \n",
    "        left += 1\n",
    "        right -= 1\n",
    "    return arr\n",
    "\n",
    "arr = [1, 2, 3, 4, 5]\n",
    "print(reverse_array(arr))  "
   ]
  }
 ],
 "metadata": {
  "kernelspec": {
   "display_name": "Python 3",
   "language": "python",
   "name": "python3"
  },
  "language_info": {
   "codemirror_mode": {
    "name": "ipython",
    "version": 3
   },
   "file_extension": ".py",
   "mimetype": "text/x-python",
   "name": "python",
   "nbconvert_exporter": "python",
   "pygments_lexer": "ipython3",
   "version": "3.11.0"
  }
 },
 "nbformat": 4,
 "nbformat_minor": 2
}
