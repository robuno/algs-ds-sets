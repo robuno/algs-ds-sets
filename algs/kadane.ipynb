{
 "cells": [
  {
   "cell_type": "markdown",
   "metadata": {},
   "source": [
    "find max sequential subarray (max subarray sum), o(N)"
   ]
  },
  {
   "cell_type": "code",
   "execution_count": 6,
   "metadata": {},
   "outputs": [
    {
     "name": "stdout",
     "output_type": "stream",
     "text": [
      "-2\n",
      "curr sum: -2\n",
      "max sum: -2\n",
      "1\n",
      "curr sum: 1\n",
      "max sum: 1\n",
      "-3\n",
      "curr sum: -2\n",
      "max sum: 1\n",
      "4\n",
      "curr sum: 4\n",
      "max sum: 4\n",
      "-1\n",
      "curr sum: 3\n",
      "max sum: 4\n",
      "2\n",
      "curr sum: 5\n",
      "max sum: 5\n",
      "1\n",
      "curr sum: 6\n",
      "max sum: 6\n",
      "-5\n",
      "curr sum: 1\n",
      "max sum: 6\n",
      "4\n",
      "curr sum: 5\n",
      "max sum: 6\n",
      "6\n"
     ]
    }
   ],
   "source": [
    "def max_subarray_sum(arr):\n",
    "    max_sum = float('-inf')  \n",
    "    current_sum = 0\n",
    "\n",
    "    for num in arr:\n",
    "        current_sum = max(num, current_sum + num)  # create a new subarray?\n",
    "        max_sum = max(max_sum, current_sum)  # update max sum\n",
    "\n",
    "        print(num)\n",
    "        print(f\"curr sum:\", current_sum)\n",
    "        print(f\"max sum:\",max_sum)\n",
    "\n",
    "    return max_sum\n",
    "\n",
    "arr = [-2, 1, -3, 4, -1, 2, 1, -5, 4]\n",
    "result = max_subarray_sum(arr)\n",
    "print(result)  \n"
   ]
  }
 ],
 "metadata": {
  "kernelspec": {
   "display_name": "Python 3",
   "language": "python",
   "name": "python3"
  },
  "language_info": {
   "codemirror_mode": {
    "name": "ipython",
    "version": 3
   },
   "file_extension": ".py",
   "mimetype": "text/x-python",
   "name": "python",
   "nbconvert_exporter": "python",
   "pygments_lexer": "ipython3",
   "version": "3.11.0"
  }
 },
 "nbformat": 4,
 "nbformat_minor": 2
}
