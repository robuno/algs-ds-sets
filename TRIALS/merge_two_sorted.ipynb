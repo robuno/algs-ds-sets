{
 "cells": [
  {
   "cell_type": "markdown",
   "metadata": {},
   "source": [
    "## Arrays:"
   ]
  },
  {
   "cell_type": "markdown",
   "metadata": {},
   "source": [
    "two pointer"
   ]
  },
  {
   "cell_type": "code",
   "execution_count": 1,
   "metadata": {},
   "outputs": [
    {
     "name": "stdout",
     "output_type": "stream",
     "text": [
      "[1, 2, 3, 4, 5, 6, 7, 8]\n"
     ]
    }
   ],
   "source": [
    "def merge_sorted_arrays(arr1, arr2):\n",
    "    i, j = 0, 0\n",
    "    merged = []\n",
    "    \n",
    "    while i < len(arr1) and j < len(arr2):\n",
    "        if arr1[i] < arr2[j]:\n",
    "            merged.append(arr1[i])\n",
    "            i += 1\n",
    "        else:\n",
    "            merged.append(arr2[j])\n",
    "            j += 1\n",
    "\n",
    "    # add remaining elements from both arrays\n",
    "    merged.extend(arr1[i:])\n",
    "    merged.extend(arr2[j:])\n",
    "    \n",
    "    return merged\n",
    "\n",
    "arr1 = [1, 3, 5, 7]\n",
    "arr2 = [2, 4, 6, 8]\n",
    "print(merge_sorted_arrays(arr1, arr2))  \n"
   ]
  },
  {
   "cell_type": "code",
   "execution_count": 2,
   "metadata": {},
   "outputs": [
    {
     "name": "stdout",
     "output_type": "stream",
     "text": [
      "[1, 2, 3, 4, 5, 6, 7, 8]\n"
     ]
    }
   ],
   "source": [
    "arr1 = [1, 3, 5, 7]\n",
    "arr2 = [2, 4, 6, 8]\n",
    "\n",
    "merged = sorted(arr1 + arr2)\n",
    "print(merged)  "
   ]
  },
  {
   "cell_type": "markdown",
   "metadata": {},
   "source": [
    "## Linked Lists"
   ]
  },
  {
   "cell_type": "code",
   "execution_count": 3,
   "metadata": {},
   "outputs": [],
   "source": [
    "class Node:\n",
    "    def __init__(self, data):\n",
    "        self.data = data\n",
    "        self.next = None\n",
    "\n",
    "class LinkedList:\n",
    "    def __init__(self):\n",
    "        self.head = None\n",
    "\n",
    "    def append(self, data):\n",
    "        \"\"\" Add new node to the end \"\"\"\n",
    "        new_node = Node(data)\n",
    "        if not self.head: \n",
    "            self.head = new_node\n",
    "            return\n",
    "        \n",
    "        current_node = self.head\n",
    "        while current_node.next:\n",
    "            current_node = current_node.next\n",
    "        current_node.next = new_node  \n",
    "\n",
    "    def printall(self):\n",
    "        \"\"\" Print all elements of the linked list \"\"\"\n",
    "        current_node = self.head\n",
    "        while current_node:\n",
    "            print(current_node.data, end=\" -> \")\n",
    "            current_node = current_node.next\n",
    "        print(\"None\")"
   ]
  },
  {
   "cell_type": "code",
   "execution_count": 4,
   "metadata": {},
   "outputs": [
    {
     "name": "stdout",
     "output_type": "stream",
     "text": [
      "1 -> 2 -> 3 -> 4 -> 5 -> 6 -> None\n"
     ]
    }
   ],
   "source": [
    "def merge_sorted_lists(l1, l2):\n",
    "    dummy = Node(0)  # temporary  node\n",
    "    tail = dummy     # pointer to build the new list\n",
    "\n",
    "    while l1 and l2:\n",
    "        if l1.data < l2.data:\n",
    "            tail.next = l1\n",
    "            l1 = l1.next\n",
    "        else:\n",
    "            tail.next = l2\n",
    "            l2 = l2.next\n",
    "        tail = tail.next  # move the tail pointer\n",
    "    \n",
    "    # append the remaining elements \n",
    "    tail.next = l1 if l1 else l2\n",
    "    \n",
    "    return dummy.next  # \n",
    "\n",
    "\n",
    "l1 = LinkedList()\n",
    "l1.append(1)\n",
    "l1.append(3)\n",
    "l1.append(5)\n",
    "\n",
    "l2 = LinkedList()\n",
    "l2.append(2)\n",
    "l2.append(4)\n",
    "l2.append(6)\n",
    "\n",
    "merged_head = merge_sorted_lists(l1.head, l2.head)\n",
    "\n",
    "\n",
    "merged_list = LinkedList()\n",
    "merged_list.head = merged_head\n",
    "merged_list.printall()  "
   ]
  }
 ],
 "metadata": {
  "kernelspec": {
   "display_name": "Python 3",
   "language": "python",
   "name": "python3"
  },
  "language_info": {
   "codemirror_mode": {
    "name": "ipython",
    "version": 3
   },
   "file_extension": ".py",
   "mimetype": "text/x-python",
   "name": "python",
   "nbconvert_exporter": "python",
   "pygments_lexer": "ipython3",
   "version": "3.11.0"
  }
 },
 "nbformat": 4,
 "nbformat_minor": 2
}
