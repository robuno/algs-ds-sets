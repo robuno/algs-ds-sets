{
 "cells": [
  {
   "cell_type": "markdown",
   "metadata": {},
   "source": [
    "last in first out = two queues\n",
    "\n",
    "- push: newest element is at the front of the main queue\n",
    "- pop: last element is removed after transferring all to the 2nd queue"
   ]
  },
  {
   "cell_type": "code",
   "execution_count": 4,
   "metadata": {},
   "outputs": [
    {
     "name": "stdout",
     "output_type": "stream",
     "text": [
      "30\n",
      "30\n",
      "20\n",
      "40\n",
      "2\n"
     ]
    }
   ],
   "source": [
    "from collections import deque\n",
    "\n",
    "class StackUsingQueues:\n",
    "    def __init__(self):\n",
    "        self.queue1 = deque()  # main queue\n",
    "        self.queue2 = deque()  # temporary queue\n",
    "\n",
    "    def push(self, x):\n",
    "        self.queue1.append(x)\n",
    "\n",
    "    def pop(self):\n",
    "        if self.is_empty():\n",
    "            raise IndexError(\"Pop from empty stack\")\n",
    "\n",
    "        # transfer all elements except the last one from q1 to q2\n",
    "        while len(self.queue1) > 1:\n",
    "            self.queue2.append(self.queue1.popleft())\n",
    "\n",
    "        #  last element in queue1 = the top of the stack\n",
    "        top_element = self.queue1.popleft()\n",
    "\n",
    "        # swap the queues\n",
    "        self.queue1, self.queue2 = self.queue2, self.queue1\n",
    "        return top_element\n",
    "\n",
    "    def top(self):\n",
    "        if self.is_empty():\n",
    "            raise IndexError(\"Top from empty stack\")\n",
    "\n",
    "        # transfer all elements except the last one from q1 to q2\n",
    "        while len(self.queue1) > 1:\n",
    "            self.queue2.append(self.queue1.popleft())\n",
    "\n",
    "        #  last element in queue1 = the top of the stack\n",
    "        top_element = self.queue1.popleft()\n",
    "        self.queue2.append(top_element)  # put it to q2 again, make q2=q1\n",
    "\n",
    "        # swap the queues\n",
    "        self.queue1, self.queue2 = self.queue2, self.queue1\n",
    "        return top_element\n",
    "\n",
    "    def is_empty(self):\n",
    "        return not self.queue1\n",
    "\n",
    "    def size(self):\n",
    "        return len(self.queue1)\n",
    "\n",
    "\n",
    "\n",
    "stack = StackUsingQueues()\n",
    "\n",
    "stack.push(10)\n",
    "stack.push(20)\n",
    "stack.push(30)\n",
    "print(stack.top())  \n",
    "print(stack.pop())  \n",
    "print(stack.pop())  \n",
    "stack.push(40)\n",
    "print(stack.top())  \n",
    "print(stack.size())  \n"
   ]
  },
  {
   "attachments": {
    "image.png": {
     "image/png": "[encoded data removed]"
    }
   },
   "cell_type": "markdown",
   "metadata": {},
   "source": [
    "![image.png](attachment:image.png)"
   ]
  },
  {
   "cell_type": "markdown",
   "metadata": {},
   "source": []
  }
 ],
 "metadata": {
  "kernelspec": {
   "display_name": "Python 3",
   "language": "python",
   "name": "python3"
  },
  "language_info": {
   "codemirror_mode": {
    "name": "ipython",
    "version": 3
   },
   "file_extension": ".py",
   "mimetype": "text/x-python",
   "name": "python",
   "nbconvert_exporter": "python",
   "pygments_lexer": "ipython3",
   "version": "3.11.0"
  }
 },
 "nbformat": 4,
 "nbformat_minor": 2
}
