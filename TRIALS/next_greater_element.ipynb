{
 "cells": [
  {
   "cell_type": "markdown",
   "metadata": {},
   "source": [
    "- For each element in an array, find the next greater element (NGE) that is to the right of the current element. \n",
    "- If there is no greater element to the right, the answer is -1 for that element."
   ]
  },
  {
   "cell_type": "markdown",
   "metadata": {},
   "source": [
    "- arr = [4, 5, 2, 10, 8]\n",
    "- NGE = [5, 10, 10, -1, -1]"
   ]
  },
  {
   "cell_type": "markdown",
   "metadata": {},
   "source": [
    "### with Stacks"
   ]
  },
  {
   "cell_type": "code",
   "execution_count": 8,
   "metadata": {},
   "outputs": [
    {
     "name": "stdout",
     "output_type": "stream",
     "text": [
      "stack: [] i: 8\n",
      "result: [-1, -1, -1, -1, -1]\n",
      "\n",
      "stack: [8] i: 10\n",
      "--> stack[-1]: 8, arr[i]: 10\n",
      "result: [-1, -1, -1, -1, -1]\n",
      "\n",
      "stack: [10] i: 2\n",
      "result: [-1, -1, 10, -1, -1]\n",
      "\n",
      "stack: [10, 2] i: 5\n",
      "--> stack[-1]: 2, arr[i]: 5\n",
      "result: [-1, 10, 10, -1, -1]\n",
      "\n",
      "stack: [10, 5] i: 4\n",
      "result: [5, 10, 10, -1, -1]\n",
      "\n",
      "[5, 10, 10, -1, -1]\n"
     ]
    }
   ],
   "source": [
    "def next_greater_element(arr):\n",
    "    stack = []  \n",
    "    result = [-1] * len(arr)  # initialize result\n",
    "\n",
    "    # traverse the array from right to left\n",
    "    for i in range(len(arr) - 1, -1, -1):\n",
    "        print(\"stack:\", stack, \"i:\", arr[i])\n",
    "        # pop elements from the stack < the current element\n",
    "        while stack and stack[-1] <= arr[i]:\n",
    "            print(f\"--> stack[-1]: {stack[-1]}, arr[i]: {arr[i]}\")\n",
    "            stack.pop()\n",
    "\n",
    "        # if stack is not empty, \n",
    "        # the top of the stack =  next greater element\n",
    "        if stack:\n",
    "            result[i] = stack[-1]\n",
    "        print(\"result:\", result)\n",
    "        print()\n",
    "        \n",
    "        # push the current element\n",
    "        stack.append(arr[i])\n",
    "    \n",
    "    return result\n",
    "\n",
    "\n",
    "arr = [4, 5, 2, 10, 8]\n",
    "print(next_greater_element(arr))  \n"
   ]
  }
 ],
 "metadata": {
  "kernelspec": {
   "display_name": "Python 3",
   "language": "python",
   "name": "python3"
  },
  "language_info": {
   "codemirror_mode": {
    "name": "ipython",
    "version": 3
   },
   "file_extension": ".py",
   "mimetype": "text/x-python",
   "name": "python",
   "nbconvert_exporter": "python",
   "pygments_lexer": "ipython3",
   "version": "3.11.0"
  }
 },
 "nbformat": 4,
 "nbformat_minor": 2
}
