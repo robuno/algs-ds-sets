{
 "cells": [
  {
   "cell_type": "markdown",
   "metadata": {},
   "source": [
    "- technique to compute sum of elements\n",
    "- aux array: start to index i (sums)\n",
    "\n",
    "advantages:\n",
    "- answer multiple queries about sum of elements in a subarray\n",
    "- "
   ]
  },
  {
   "cell_type": "code",
   "execution_count": 1,
   "metadata": {},
   "outputs": [
    {
     "name": "stdout",
     "output_type": "stream",
     "text": [
      "Prefix Sum Array: [1, 3, 6, 10, 15]\n"
     ]
    }
   ],
   "source": [
    "def comp_prefix_sum(arr):\n",
    "    n = len(arr)\n",
    "    prefix_list= [0] * n\n",
    "    prefix_list[0] = arr[0]\n",
    "\n",
    "    for i in range(1,n):\n",
    "        prefix_list[i] = prefix_list[i-1] + arr[i]\n",
    "\n",
    "    return prefix_list\n",
    "\n",
    "\n",
    "arr = [1, 2, 3, 4, 5]\n",
    "prefix_sum = comp_prefix_sum(arr)\n",
    "print(\"Prefix Sum Array:\", prefix_sum)"
   ]
  }
 ],
 "metadata": {
  "kernelspec": {
   "display_name": "Python 3",
   "language": "python",
   "name": "python3"
  },
  "language_info": {
   "codemirror_mode": {
    "name": "ipython",
    "version": 3
   },
   "file_extension": ".py",
   "mimetype": "text/x-python",
   "name": "python",
   "nbconvert_exporter": "python",
   "pygments_lexer": "ipython3",
   "version": "3.11.0"
  }
 },
 "nbformat": 4,
 "nbformat_minor": 2
}
