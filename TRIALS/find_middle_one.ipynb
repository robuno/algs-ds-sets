{
 "cells": [
  {
   "cell_type": "markdown",
   "metadata": {},
   "source": [
    "## find middle one arrays\n"
   ]
  },
  {
   "cell_type": "markdown",
   "metadata": {},
   "source": [
    "two pointer o-n\n"
   ]
  },
  {
   "cell_type": "code",
   "execution_count": 3,
   "metadata": {},
   "outputs": [
    {
     "name": "stdout",
     "output_type": "stream",
     "text": [
      "fast: 0, slow: 0\n",
      "fast: 2, slow: 1\n",
      "fast: 4, slow: 2\n",
      "fast: 6, slow: 3\n",
      "fast: 8, slow: 4\n",
      "fast: 10, slow: 5\n",
      "7\n"
     ]
    }
   ],
   "source": [
    "def find_middle_array_two_pointers(arr):\n",
    "    slow = 0\n",
    "    fast = 0\n",
    "    while fast < len(arr) - 1 and fast + 1 < len(arr):\n",
    "        print(f\"fast: {fast}, slow: {slow}\")\n",
    "        slow += 1\n",
    "        fast += 2            # reach end of the array\n",
    "    return arr[slow]\n",
    "\n",
    "\n",
    "arr = [1, 2, 3, 4, 5, 6, 7, 8, 9, 10, 11, 12, 13]\n",
    "print(find_middle_array_two_pointers(arr)) "
   ]
  },
  {
   "cell_type": "markdown",
   "metadata": {},
   "source": [
    "## linked lists"
   ]
  },
  {
   "cell_type": "code",
   "execution_count": 4,
   "metadata": {},
   "outputs": [],
   "source": [
    "class Node:\n",
    "    def __init__(self, data):\n",
    "        self.data = data\n",
    "        self.next = None\n",
    "\n",
    "class LinkedList:\n",
    "    def __init__(self):\n",
    "        self.head = None\n",
    "\n",
    "    def append(self, data):\n",
    "        new_node = Node(data)\n",
    "        if not self.head:\n",
    "            self.head = new_node\n",
    "            return\n",
    "        current_node = self.head\n",
    "        while current_node.next:\n",
    "            current_node = current_node.next\n",
    "        current_node.next = new_node\n",
    "\n",
    "    def print_all(self):\n",
    "        current_node = self.head\n",
    "        while current_node:\n",
    "            print(current_node.data, end=\" -> \")\n",
    "            current_node = current_node.next\n",
    "        print(\"None\")\n",
    "\n",
    "\n",
    "\n",
    "    def find_middle(self):\n",
    "        if not self.head:\n",
    "            return None  # if the list is empty\n",
    "\n",
    "        slow = self.head\n",
    "        fast = self.head\n",
    "        \n",
    "        while fast and fast.next:\n",
    "            slow = slow.next         # move slow pointer by 1 step\n",
    "            fast = fast.next.next    # move fast pointer by 2 steps\n",
    "        \n",
    "        return slow  # slow pointer will be at the middle\n"
   ]
  },
  {
   "cell_type": "code",
   "execution_count": 10,
   "metadata": {},
   "outputs": [
    {
     "name": "stdout",
     "output_type": "stream",
     "text": [
      "Middle node: 3\n"
     ]
    }
   ],
   "source": [
    "ll = LinkedList()\n",
    "ll.append(1)\n",
    "ll.append(2)\n",
    "ll.append(3)\n",
    "ll.append(4)\n",
    "ll.append(5)\n",
    "\n",
    "middle_node = ll.find_middle()\n",
    "print(f\"Middle node: {middle_node.data}\")  "
   ]
  }
 ],
 "metadata": {
  "kernelspec": {
   "display_name": "Python 3",
   "language": "python",
   "name": "python3"
  },
  "language_info": {
   "codemirror_mode": {
    "name": "ipython",
    "version": 3
   },
   "file_extension": ".py",
   "mimetype": "text/x-python",
   "name": "python",
   "nbconvert_exporter": "python",
   "pygments_lexer": "ipython3",
   "version": "3.11.0"
  }
 },
 "nbformat": 4,
 "nbformat_minor": 2
}
