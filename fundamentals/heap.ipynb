{
 "cells": [
  {
   "cell_type": "markdown",
   "metadata": {},
   "source": [
    "- insert + heapify\n",
    "- extract max min: remove and return\n",
    "- peek: return\n",
    "- heapify: arrayo -> heap"
   ]
  },
  {
   "cell_type": "code",
   "execution_count": 12,
   "metadata": {},
   "outputs": [
    {
     "name": "stdout",
     "output_type": "stream",
     "text": [
      "Heap after insertions: [30, 20, 15, 10, 5]\n",
      "Peek max: 30\n",
      "Extract max: 30\n",
      "Heap after extraction: [20, 10, 15, 5]\n"
     ]
    }
   ],
   "source": [
    "class MaxHeap:\n",
    "    def __init__(self):\n",
    "        self.heap = []\n",
    "\n",
    "\n",
    "    # 1- helper functions\n",
    "    def parent(self, i):\n",
    "        return (i - 1) // 2\n",
    "\n",
    "    def left_child(self, i):\n",
    "        return 2 * i + 1\n",
    "\n",
    "    def right_child(self, i):\n",
    "        return 2 * i + 2\n",
    "    \n",
    "    def swap(self, i, j):\n",
    "        self.heap[i], self.heap[j] = self.heap[j], self.heap[i]\n",
    "\n",
    "    # 2- operations\n",
    "    # insert\n",
    "    def insert(self, value):\n",
    "        self.heap.append(value)  # add the new node to the end\n",
    "        self.sift_up(len(self.heap) - 1)  # update heap\n",
    "\n",
    "    def sift_up(self, i):\n",
    "        while i > 0 and self.heap[self.parent(i)] < self.heap[i]:\n",
    "            self.swap(i, self.parent(i))\n",
    "            i = self.parent(i)\n",
    "\n",
    "    # return max and remove\n",
    "    def extract_max(self):\n",
    "        if not self.heap:\n",
    "            raise IndexError(\"[ERROR] Extract from an empty heap\")\n",
    "\n",
    "        max_value = self.heap[0]  # max = root\n",
    "        self.heap[0] = self.heap[-1]  # move last to root\n",
    "        self.heap.pop()  # remove last element (already in root)\n",
    "        self.sift_down(0)  # heapify\n",
    "        return max_value\n",
    "    \n",
    "    def sift_down(self, i):\n",
    "        max_index = i\n",
    "        left = self.left_child(i)\n",
    "        right = self.right_child(i)\n",
    "\n",
    "        # compare with left child\n",
    "        if left < len(self.heap) and self.heap[left] > self.heap[max_index]:\n",
    "            max_index = left        # if L is bigger\n",
    "\n",
    "        # compare with right child\n",
    "        if right < len(self.heap) and self.heap[right] > self.heap[max_index]:\n",
    "            max_index = right       # if R is bigger\n",
    "\n",
    "        # if the max index has changed, swap and continue sifting down\n",
    "        if max_index != i:\n",
    "            self.swap(i, max_index)\n",
    "            self.sift_down(max_index)\n",
    "\n",
    "    def peek(self):\n",
    "        if not self.heap:\n",
    "            raise IndexError(\"[ERROR] Peek from an empty heap\")\n",
    "        return self.heap[0]\n",
    "\n",
    "    def heapify(self, array):\n",
    "        self.heap = array.copy()\n",
    "\n",
    "        # start from the last non-leaf node and sift down each node\n",
    "        last_parent_node = len(self.heap) // 2 - 1\n",
    "        for i in range(last_parent_node, -1, -1):\n",
    "            self.sift_down(i)\n",
    "    \n",
    "    def __str__(self):\n",
    "        return str(self.heap)\n",
    "\n",
    "    \n",
    "if __name__ == \"__main__\":\n",
    "    heap = MaxHeap()\n",
    "\n",
    "    heap.insert(10)\n",
    "    heap.insert(20)\n",
    "    heap.insert(15)\n",
    "    heap.insert(30)\n",
    "    heap.insert(5)\n",
    "\n",
    "    print(\"Heap after insertions:\", heap)  # [30, 20, 15, 10, 5]\n",
    "\n",
    "    print(\"Peek max:\", heap.peek())  # 30\n",
    "\n",
    "    print(\"Extract max:\", heap.extract_max())  # 30\n",
    "    print(\"Heap after extraction:\", heap)  # [20, 10, 15, 5]\n",
    "\n",
    "    \n"
   ]
  },
  {
   "cell_type": "code",
   "execution_count": 13,
   "metadata": {},
   "outputs": [
    {
     "name": "stdout",
     "output_type": "stream",
     "text": [
      "Heap after heapify: [9, 4, 5, 1, 3, 2]\n"
     ]
    }
   ],
   "source": [
    "heap.heapify([3, 9, 2, 1, 4, 5])\n",
    "print(\"Heap after heapify:\", heap)  # [9, 4, 5, 1, 3, 2]"
   ]
  }
 ],
 "metadata": {
  "kernelspec": {
   "display_name": "Python 3",
   "language": "python",
   "name": "python3"
  },
  "language_info": {
   "codemirror_mode": {
    "name": "ipython",
    "version": 3
   },
   "file_extension": ".py",
   "mimetype": "text/x-python",
   "name": "python",
   "nbconvert_exporter": "python",
   "pygments_lexer": "ipython3",
   "version": "3.11.0"
  }
 },
 "nbformat": 4,
 "nbformat_minor": 2
}
