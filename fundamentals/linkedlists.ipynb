{
 "cells": [
  {
   "cell_type": "code",
   "execution_count": 1,
   "metadata": {},
   "outputs": [],
   "source": [
    "class Node:\n",
    "    def __init__(self, data):\n",
    "        self.data = data\n",
    "        self.next = None\n",
    "\n",
    "\n",
    "class LinkedList:\n",
    "    def __init__(self):\n",
    "        self.head = None\n",
    "\n",
    "    # 1 appending\n",
    "    # 2 initializer = prepend\n",
    "    # 3 delete\n",
    "    # 4 print list\n",
    "\n",
    "\n",
    "    def prepend(self,data):\n",
    "        \"\"\" add new node to the beginning \"\"\"\n",
    "        new_node = Node(data)\n",
    "        new_node.next = self.head   # current head\n",
    "        self.head = new_node\n",
    "\n",
    "    def append(self, data):\n",
    "        \"\"\" add new node to the end\"\"\"\n",
    "        new_node = Node(data)\n",
    "        if not self.head:           # empty\n",
    "            self.head = new_node\n",
    "            return\n",
    "        \n",
    "        current_node = self.head    # initialize head \n",
    "        while current_node.next:    # go to the end (node.next = none)\n",
    "            current_node = current_node.next  # update the head to the last\n",
    "        current_node.next = new_node          # last node's next pointer to new one\n",
    "\n",
    "    def delete(self, data):\n",
    "        \"\"\" delete the first node with given data \"\"\"\n",
    "        if not self.head:\n",
    "            print(\"empty list!\")\n",
    "            return\n",
    "        \n",
    "        if self.head.data == data:      # data is head\n",
    "            self.head = self.head.next  # move the head\n",
    "            return\n",
    "        \n",
    "        current_node = self.head\n",
    "        while current_node.next and current_node.next.data != data: \n",
    "            # try to find node\n",
    "            current_node = current_node.next\n",
    "        \n",
    "        if current_node.next:\n",
    "            current_node.next = current_node.next.next\n",
    "        else:\n",
    "            print(\"data is not in the list\")\n",
    "\n",
    "    def printall(self):\n",
    "        current_node = self.head\n",
    "        while current_node:\n",
    "            print(current_node.data, end=\" -> \")\n",
    "            current_node = current_node.next\n",
    "        print(\"none\")\n",
    "\n",
    "\n"
   ]
  },
  {
   "cell_type": "code",
   "execution_count": 4,
   "metadata": {},
   "outputs": [
    {
     "name": "stdout",
     "output_type": "stream",
     "text": [
      "10 -> 20 -> 30 -> none\n",
      "5 -> 10 -> 20 -> 30 -> none\n",
      "5 -> 10 -> 30 -> none\n"
     ]
    }
   ],
   "source": [
    "ll = LinkedList()\n",
    "ll.append(10)\n",
    "ll.append(20)\n",
    "ll.append(30)\n",
    "ll.printall()  \n",
    "\n",
    "ll.prepend(5)\n",
    "ll.printall()  \n",
    "\n",
    "ll.delete(20)\n",
    "ll.printall()  "
   ]
  }
 ],
 "metadata": {
  "kernelspec": {
   "display_name": "Python 3",
   "language": "python",
   "name": "python3"
  },
  "language_info": {
   "codemirror_mode": {
    "name": "ipython",
    "version": 3
   },
   "file_extension": ".py",
   "mimetype": "text/x-python",
   "name": "python",
   "nbconvert_exporter": "python",
   "pygments_lexer": "ipython3",
   "version": "3.11.0"
  }
 },
 "nbformat": 4,
 "nbformat_minor": 2
}
